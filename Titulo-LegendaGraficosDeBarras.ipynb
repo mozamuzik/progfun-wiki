{
  "nbformat": 4,
  "nbformat_minor": 0,
  "metadata": {
    "colab": {
      "name": "Untitled2.ipynb",
      "provenance": [],
      "include_colab_link": true
    },
    "kernelspec": {
      "name": "python3",
      "display_name": "Python 3"
    }
  },
  "cells": [
    {
      "cell_type": "markdown",
      "metadata": {
        "id": "view-in-github",
        "colab_type": "text"
      },
      "source": [
        "<a href=\"https://colab.research.google.com/github/mozamuzik/progfun-wiki/blob/gh-pages/Titulo-LegendaGraficosDeBarras.ipynb\" target=\"_parent\"><img src=\"https://colab.research.google.com/assets/colab-badge.svg\" alt=\"Open In Colab\"/></a>"
      ]
    },
    {
      "cell_type": "code",
      "metadata": {
        "id": "1Yd5Z0Xo3jtQ",
        "colab_type": "code",
        "colab": {}
      },
      "source": [
        "import matplotlib.pyplot as plt"
      ],
      "execution_count": 0,
      "outputs": []
    },
    {
      "cell_type": "code",
      "metadata": {
        "id": "wNV8Q_DY3tGE",
        "colab_type": "code",
        "colab": {}
      },
      "source": [
        "x = [1, 3, 5, 7, 9]\n",
        "y = [2, 3, 7, 1, 0]\n",
        "\n",
        "titulo = \"Grafico de Barras\"\n",
        "eixox = \"Eixo X\"\n",
        "eixoy = \"Eixo Y\""
      ],
      "execution_count": 0,
      "outputs": []
    },
    {
      "cell_type": "code",
      "metadata": {
        "id": "D8DKOfWW39te",
        "colab_type": "code",
        "colab": {
          "base_uri": "https://localhost:8080/",
          "height": 295
        },
        "outputId": "de0fd24a-a80d-4573-bbf0-4148cf6d3241"
      },
      "source": [
        "# Titulo\n",
        "plt.title(titulo)\n",
        "plt.xlabel(eixox)\n",
        "plt.ylabel(eixoy)\n",
        "\n",
        "plt.scatter(x, y, label=\"Meus pontos\", color='r')\n",
        "plt.legend()\n",
        "plt.show()"
      ],
      "execution_count": 20,
      "outputs": [
        {
          "output_type": "display_data",
          "data": {
            "image/png": "[encoded data removed]",
            "text/plain": [
              "<Figure size 432x288 with 1 Axes>"
            ]
          },
          "metadata": {
            "tags": []
          }
        }
      ]
    }
  ]
}